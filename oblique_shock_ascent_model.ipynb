{
 "cells": [
  {
   "cell_type": "markdown",
   "metadata": {},
   "source": [
    "Load libraries and set up environment"
   ]
  },
  {
   "cell_type": "code",
   "execution_count": 1,
   "metadata": {
    "collapsed": true
   },
   "outputs": [],
   "source": [
    "import sympy\n",
    "sympy.init_printing()"
   ]
  },
  {
   "cell_type": "markdown",
   "metadata": {},
   "source": [
    "Let us consider an explosion with energy $E$ close to the surface of a star. The star has mass $M$ and radius $R$. The distance between the point where the explosion occurred and the surface of the star is $l \\ll R$. For this reason, we can assume that the density distribution is planar."
   ]
  },
  {
   "cell_type": "code",
   "execution_count": 2,
   "metadata": {},
   "outputs": [
    {
     "data": {
      "image/png": "[encoded data removed]",
      "text/latex": [
       "$$\\frac{M \\left(\\frac{y}{R}\\right)^{\\omega}}{R^{3}}$$"
      ],
      "text/plain": [
       "     ω\n",
       "  ⎛y⎞ \n",
       "M⋅⎜─⎟ \n",
       "  ⎝R⎠ \n",
       "──────\n",
       "   3  \n",
       "  R   "
      ]
     },
     "execution_count": 2,
     "metadata": {},
     "output_type": "execute_result"
    }
   ],
   "source": [
    "M = sympy.Symbol('M', positive=True) # Star mass\n",
    "R = sympy.Symbol('R', positive=True) # Star radius\n",
    "y = sympy.Symbol('y',positive=True) # Distance from the stellar surface\n",
    "omega = sympy.Symbol('omega', positive=True) # Power law index of the stellar atmosphere density profile\n",
    "ambient_density = (M/R**3)*(y/R)**omega\n",
    "ambient_density"
   ]
  },
  {
   "cell_type": "markdown",
   "metadata": {},
   "source": [
    "where $y$ is the distance from the surface of the star and $\\omega$ is a constant. As long as the radius of the explosion is much smaller than $l$, the explosion expands as a Sedov Taylor explosion. When the radius is comparable to $l$, the mass engulfed by the shock is $M \\left(l/R\\right)^{\\omega+3}$"
   ]
  },
  {
   "cell_type": "code",
   "execution_count": 3,
   "metadata": {},
   "outputs": [
    {
     "data": {
      "image/png": "[encoded data removed]",
      "text/latex": [
       "$$\\frac{M l^{3}}{R^{3}} \\left(\\frac{l}{R}\\right)^{\\omega}$$"
      ],
      "text/plain": [
       "        ω\n",
       "   3 ⎛l⎞ \n",
       "M⋅l ⋅⎜─⎟ \n",
       "     ⎝R⎠ \n",
       "─────────\n",
       "     3   \n",
       "    R    "
      ]
     },
     "execution_count": 3,
     "metadata": {},
     "output_type": "execute_result"
    }
   ],
   "source": [
    "l = sympy.Symbol('l', positive=True) # Depth of the explosion\n",
    "sd_mass = ambient_density.subs(y,l)*l**3\n",
    "sd_mass"
   ]
  },
  {
   "cell_type": "markdown",
   "metadata": {},
   "source": [
    "and the velocity at that point is"
   ]
  },
  {
   "cell_type": "code",
   "execution_count": 4,
   "metadata": {},
   "outputs": [
    {
     "data": {
      "image/png": "[encoded data removed]",
      "text/latex": [
       "$$\\frac{\\sqrt{E} R^{\\frac{3}{2}} \\left(\\frac{l}{R}\\right)^{- \\frac{\\omega}{2}}}{\\sqrt{M} l^{\\frac{3}{2}}}$$"
      ],
      "text/plain": [
       "           -ω \n",
       "           ───\n",
       "            2 \n",
       "    3/2 ⎛l⎞   \n",
       "√E⋅R   ⋅⎜─⎟   \n",
       "        ⎝R⎠   \n",
       "──────────────\n",
       "       3/2    \n",
       "   √M⋅l       "
      ]
     },
     "execution_count": 4,
     "metadata": {},
     "output_type": "execute_result"
    }
   ],
   "source": [
    "E = sympy.Symbol('E', positive=True) # Energy of the explosion\n",
    "sd_veloicty = sympy.sqrt(E/sd_mass)\n",
    "sd_veloicty"
   ]
  },
  {
   "cell_type": "markdown",
   "metadata": {},
   "source": [
    "Now we focus on a very small region close to the uppermost part of the shock, and assume that from that moment on the shock accelerates according to the Sakurai law. For simplicity, we assume that the slope of the shock front is negligible, so each \"slice\" evolves as an isolate planar shock wave. We denote by $x$ the coordinate parallel to the stellar surface. The initial distance of each point from the stellar surface is given by"
   ]
  },
  {
   "cell_type": "code",
   "execution_count": 5,
   "metadata": {},
   "outputs": [
    {
     "data": {
      "image/png": "[encoded data removed]",
      "text/latex": [
       "$$l \\left(1 + \\frac{x^{2}}{l^{2}}\\right)$$"
      ],
      "text/plain": [
       "  ⎛     2⎞\n",
       "  ⎜    x ⎟\n",
       "l⋅⎜1 + ──⎟\n",
       "  ⎜     2⎟\n",
       "  ⎝    l ⎠"
      ]
     },
     "execution_count": 5,
     "metadata": {},
     "output_type": "execute_result"
    }
   ],
   "source": [
    "x = sympy.Symbol('x', real=True) # Coordinate parallel to the stellar surface, measured from the explosion site\n",
    "transition_y = l*(1+(x/l)**2)\n",
    "transition_y"
   ]
  },
  {
   "cell_type": "markdown",
   "metadata": {},
   "source": [
    "The component of the velocity normal to the stellar surface"
   ]
  },
  {
   "cell_type": "code",
   "execution_count": 6,
   "metadata": {},
   "outputs": [
    {
     "data": {
      "image/png": "[encoded data removed]",
      "text/latex": [
       "$$\\frac{\\sqrt{E} R^{\\frac{3}{2}} \\left(\\frac{l}{R}\\right)^{- \\frac{\\omega}{2}}}{\\sqrt{M} l^{\\frac{3}{2}}} \\left(1 - \\frac{x^{2}}{l^{2}}\\right)$$"
      ],
      "text/plain": [
       "           -ω          \n",
       "           ───         \n",
       "            2  ⎛     2⎞\n",
       "    3/2 ⎛l⎞    ⎜    x ⎟\n",
       "√E⋅R   ⋅⎜─⎟   ⋅⎜1 - ──⎟\n",
       "        ⎝R⎠    ⎜     2⎟\n",
       "               ⎝    l ⎠\n",
       "───────────────────────\n",
       "            3/2        \n",
       "        √M⋅l           "
      ]
     },
     "execution_count": 6,
     "metadata": {},
     "output_type": "execute_result"
    }
   ],
   "source": [
    "transition_v = sd_veloicty*(1-(x/l)**2)\n",
    "transition_v"
   ]
  },
  {
   "cell_type": "markdown",
   "metadata": {},
   "source": [
    "The velocity field is given by the Sakurai law"
   ]
  },
  {
   "cell_type": "code",
   "execution_count": 7,
   "metadata": {},
   "outputs": [
    {
     "data": {
      "image/png": "[encoded data removed]",
      "text/latex": [
       "$$\\frac{\\sqrt{E}}{\\sqrt{M}} R^{\\frac{\\omega}{2} + \\frac{3}{2}} l^{\\mu \\omega - \\frac{\\omega}{2} - \\frac{7}{2}} y^{- \\mu \\omega} \\left(l^{2} + \\mu \\omega x^{2} - x^{2}\\right)$$"
      ],
      "text/plain": [
       "    ω   3        ω   7                         \n",
       "    ─ + ─  μ⋅ω - ─ - ─                         \n",
       "    2   2        2   2  -μ⋅ω ⎛ 2        2    2⎞\n",
       "√E⋅R     ⋅l           ⋅y    ⋅⎝l  + μ⋅ω⋅x  - x ⎠\n",
       "───────────────────────────────────────────────\n",
       "                       √M                      "
      ]
     },
     "execution_count": 7,
     "metadata": {},
     "output_type": "execute_result"
    }
   ],
   "source": [
    "mu = sympy.Symbol('mu', positive=True) # Sakurai parameter, power law index of the velocity - density relation\n",
    "velocity_field = transition_v*(y/ transition_y)**(-mu*omega)\n",
    "sympy.expand_power_base(velocity_field, force=True).series(x,0,3).removeO().simplify()"
   ]
  },
  {
   "cell_type": "markdown",
   "metadata": {},
   "source": [
    "where $\\mu \\approx 0.2$ is the Sakurai parameter. For a given $x$, we can integrate the equation of motion $\\dot{y} = v$ and obtain a trajectory"
   ]
  },
  {
   "cell_type": "code",
   "execution_count": 8,
   "metadata": {},
   "outputs": [
    {
     "data": {
      "image/png": "[encoded data removed]",
      "text/latex": [
       "$$\\frac{R^{\\frac{\\omega + 3}{2 \\left(\\mu \\omega + 1\\right)}}}{\\mu \\omega + 1} l^{2 - \\frac{6 \\mu \\omega + \\omega + 11}{2 \\left(\\mu \\omega + 1\\right)}} \\left(\\frac{\\sqrt{E} t}{\\sqrt{M}}\\right)^{\\frac{1}{\\mu \\omega + 1}} \\left(l^{\\frac{4 \\mu \\omega + 4}{2 \\left(\\mu \\omega + 1\\right)}} \\left(\\mu \\omega + 1\\right) + x^{2} \\left(\\mu \\omega - 1\\right)\\right)$$"
      ],
      "text/plain": [
       "                                          1                                   \n",
       "    ω + 3         6⋅μ⋅ω + ω + 11       ─────── ⎛  4⋅μ⋅ω + 4                   \n",
       " ───────────  2 - ──────────────       μ⋅ω + 1 ⎜ ───────────                  \n",
       " 2⋅(μ⋅ω + 1)       2⋅(μ⋅ω + 1)   ⎛√E⋅t⎞        ⎜ 2⋅(μ⋅ω + 1)              2   \n",
       "R           ⋅l                  ⋅⎜────⎟       ⋅⎝l           ⋅(μ⋅ω + 1) + x ⋅(μ\n",
       "                                 ⎝ √M ⎠                                       \n",
       "──────────────────────────────────────────────────────────────────────────────\n",
       "                                       μ⋅ω + 1                                \n",
       "\n",
       "        \n",
       "       ⎞\n",
       "       ⎟\n",
       "       ⎟\n",
       "⋅ω - 1)⎠\n",
       "        \n",
       "────────\n",
       "        "
      ]
     },
     "execution_count": 8,
     "metadata": {},
     "output_type": "execute_result"
    }
   ],
   "source": [
    "t = sympy.Symbol('t', positive=True) # Time\n",
    "general_trajectory = sympy.solve(y/t-velocity_field,y)[0]\n",
    "sympy.expand_power_base(sympy.expand_power_base(general_trajectory,force=True).series(x,0,3).removeO(), force=True).simplify()"
   ]
  },
  {
   "cell_type": "markdown",
   "metadata": {},
   "source": [
    "We determine the time between the end of the sedov taylor phase and the time the point on the shock front reaches the edge of the star"
   ]
  },
  {
   "cell_type": "code",
   "execution_count": 26,
   "metadata": {},
   "outputs": [
    {
     "data": {
      "image/png": "[encoded data removed]",
      "text/latex": [
       "$$\\frac{\\sqrt{M}}{\\sqrt{E}} R^{- \\frac{\\omega}{2} - \\frac{3}{2}} l^{\\frac{\\omega}{2} + \\frac{1}{2}} \\left(l^{2} + 2 x^{2}\\right)$$"
      ],
      "text/plain": [
       "      ω   3  ω   1            \n",
       "    - ─ - ─  ─ + ─            \n",
       "      2   2  2   2 ⎛ 2      2⎞\n",
       "√M⋅R       ⋅l     ⋅⎝l  + 2⋅x ⎠\n",
       "──────────────────────────────\n",
       "              √E              "
      ]
     },
     "execution_count": 26,
     "metadata": {},
     "output_type": "execute_result"
    }
   ],
   "source": [
    "temp = sympy.Eq(general_trajectory, transition_y)\n",
    "shock_ascent_time = sympy.solve(temp,t)[0]\n",
    "sympy.expand_power_base(shock_ascent_time).series(x,0,3).removeO().simplify()"
   ]
  },
  {
   "cell_type": "markdown",
   "metadata": {},
   "source": [
    "Finally, we can get the shape of the shock at every moment (measured from the end of the Sedov Taylor phase)"
   ]
  },
  {
   "cell_type": "code",
   "execution_count": 10,
   "metadata": {},
   "outputs": [
    {
     "data": {
      "image/png": "[encoded data removed]",
      "text/latex": [
       "$$\\left(\\frac{\\sqrt{E}}{\\sqrt{M}} R^{\\frac{\\omega}{2} + \\frac{3}{2}} l^{- \\mu \\omega - \\frac{\\omega}{2} - \\frac{7}{2}} \\left(l^{2} - x^{2}\\right) \\left(l^{2} + x^{2}\\right)^{\\mu \\omega} \\left(t - \\frac{R^{- \\frac{\\omega}{2} - \\frac{3}{2}}}{\\sqrt{E} \\left(l^{2} - x^{2}\\right)} l^{- \\mu \\omega - 1} \\left(M^{\\frac{1}{2 \\left(\\mu \\omega + 1\\right)}} l^{\\frac{\\mu \\omega + \\frac{\\omega}{2} + \\frac{7}{2}}{\\mu \\omega + 1}} \\left(l^{2} + x^{2}\\right)\\right)^{\\mu \\omega + 1} \\left(l^{2} + x^{2}\\right)^{- \\mu \\omega}\\right)\\right)^{\\frac{1}{\\mu \\omega + 1}}$$"
      ],
      "text/plain": [
       "                                                                              \n",
       "                                                                              \n",
       "                                                                              \n",
       "⎛                                               ⎛                             \n",
       "⎜                                               ⎜                       ⎛     \n",
       "⎜                                               ⎜                       ⎜     \n",
       "⎜                                               ⎜       ω   3           ⎜     \n",
       "⎜    ω   3         ω   7                        ⎜     - ─ - ─           ⎜ ────\n",
       "⎜    ─ + ─  -μ⋅ω - ─ - ─                    μ⋅ω ⎜       2   2  -μ⋅ω - 1 ⎜ 2⋅(μ\n",
       "⎜    2   2         2   2 ⎛ 2    2⎞ ⎛ 2    2⎞    ⎜    R       ⋅l        ⋅⎝M    \n",
       "⎜√E⋅R     ⋅l            ⋅⎝l  - x ⎠⋅⎝l  + x ⎠   ⋅⎜t - ─────────────────────────\n",
       "⎜                                               ⎜                             \n",
       "⎜                                               ⎝                             \n",
       "⎜─────────────────────────────────────────────────────────────────────────────\n",
       "⎝                                                                √M           \n",
       "\n",
       "                                                         1   \n",
       "                                                      ───────\n",
       "                                                      μ⋅ω + 1\n",
       "                               μ⋅ω + 1              ⎞⎞       \n",
       "               ω   7          ⎞                     ⎟⎟       \n",
       "         μ⋅ω + ─ + ─          ⎟                     ⎟⎟       \n",
       " 1             2   2          ⎟                     ⎟⎟       \n",
       "───────  ───────────          ⎟                 -μ⋅ω⎟⎟       \n",
       "⋅ω + 1)    μ⋅ω + 1   ⎛ 2    2⎞⎟        ⎛ 2    2⎞    ⎟⎟       \n",
       "       ⋅l           ⋅⎝l  + x ⎠⎠       ⋅⎝l  + x ⎠    ⎟⎟       \n",
       "────────────────────────────────────────────────────⎟⎟       \n",
       "           ⎛ 2    2⎞                                ⎟⎟       \n",
       "        √E⋅⎝l  - x ⎠                                ⎠⎟       \n",
       "─────────────────────────────────────────────────────⎟       \n",
       "                                                     ⎠       "
      ]
     },
     "execution_count": 10,
     "metadata": {},
     "output_type": "execute_result"
    }
   ],
   "source": [
    "shock_shape = general_trajectory.subs(t, t - shock_ascent_time)\n",
    "shock_shape"
   ]
  },
  {
   "cell_type": "markdown",
   "metadata": {},
   "source": [
    "At the moment when the Arete reaches the stellar surface the radius of curvature vanishes"
   ]
  },
  {
   "cell_type": "code",
   "execution_count": 53,
   "metadata": {},
   "outputs": [
    {
     "data": {
      "image/png": "[encoded data removed]",
      "text/latex": [
       "$$\\frac{2 \\left(-1\\right)^{- \\frac{\\mu \\omega}{\\mu \\omega + 1}}}{\\mu \\omega + 1} M^{- \\frac{1}{2 \\left(\\mu \\omega + 1\\right)}} R^{- \\frac{\\mu \\omega \\left(\\omega + 3\\right)}{2 \\left(\\mu \\omega + 1\\right)}} l^{- \\frac{4 \\mu^{2} \\omega^{2}}{\\mu \\omega + 1} + 4 \\mu \\omega - \\frac{5 \\mu \\omega}{\\mu \\omega + 1} - \\frac{\\omega}{2 \\left(\\mu \\omega + 1\\right)} - \\frac{7}{2 \\left(\\mu \\omega + 1\\right)}} \\left(\\frac{1}{\\sqrt{E} \\epsilon}\\right)^{\\frac{\\mu \\omega}{\\mu \\omega + 1}} \\left(- \\sqrt{E} R^{\\frac{\\omega}{2} + \\frac{3}{2}} \\epsilon \\mu \\omega + \\sqrt{E} R^{\\frac{\\omega}{2} + \\frac{3}{2}} \\epsilon - 2 \\sqrt{M} l^{\\frac{\\omega}{2} + \\frac{5}{2}}\\right)$$"
      ],
      "text/plain": [
       "                                                2  2                          \n",
       "       -μ⋅ω        -1       -μ⋅ω⋅(ω + 3)     4⋅μ ⋅ω             5⋅μ⋅ω         \n",
       "      ───────  ───────────  ─────────────  - ─────── + 4⋅μ⋅ω - ─────── - ─────\n",
       "      μ⋅ω + 1  2⋅(μ⋅ω + 1)   2⋅(μ⋅ω + 1)     μ⋅ω + 1           μ⋅ω + 1   2⋅(μ⋅\n",
       "2⋅(-1)       ⋅M           ⋅R             ⋅l                                   \n",
       "                                                                              \n",
       "──────────────────────────────────────────────────────────────────────────────\n",
       "                                                                            μ⋅\n",
       "\n",
       "                             μ⋅ω                                              \n",
       "ω             7            ─────── ⎛      ω   3             ω   3           ω \n",
       "────── - ───────────       μ⋅ω + 1 ⎜      ─ + ─             ─ + ─           ─ \n",
       "ω + 1)   2⋅(μ⋅ω + 1) ⎛ 1  ⎞        ⎜      2   2             2   2           2 \n",
       "                    ⋅⎜────⎟       ⋅⎝- √E⋅R     ⋅ε⋅μ⋅ω + √E⋅R     ⋅ε - 2⋅√M⋅l  \n",
       "                     ⎝√E⋅ε⎠                                                   \n",
       "──────────────────────────────────────────────────────────────────────────────\n",
       "ω + 1                                                                         \n",
       "\n",
       "    \n",
       "  5⎞\n",
       "+ ─⎟\n",
       "  2⎟\n",
       "   ⎠\n",
       "    \n",
       "────\n",
       "    "
      ]
     },
     "execution_count": 53,
     "metadata": {},
     "output_type": "execute_result"
    }
   ],
   "source": [
    "epsilon = sympy.Symbol('epsilon', positive=True)\n",
    "temp = shock_shape.diff(x,2).subs(x,0)\n",
    "temp = sympy.expand_power_base(temp, force=True).simplify()\n",
    "temp = temp.subs(t, shock_ascent_time.subs(x,0)-epsilon)\n",
    "temp = sympy.expand_power_base(temp, force=True).simplify()\n",
    "temp"
   ]
  },
  {
   "cell_type": "code",
   "execution_count": null,
   "metadata": {
    "collapsed": true
   },
   "outputs": [],
   "source": []
  }
 ],
 "metadata": {
  "kernelspec": {
   "display_name": "Python 3",
   "language": "python",
   "name": "python3"
  },
  "language_info": {
   "codemirror_mode": {
    "name": "ipython",
    "version": 3
   },
   "file_extension": ".py",
   "mimetype": "text/x-python",
   "name": "python",
   "nbconvert_exporter": "python",
   "pygments_lexer": "ipython3",
   "version": "3.6.1"
  }
 },
 "nbformat": 4,
 "nbformat_minor": 2
}
